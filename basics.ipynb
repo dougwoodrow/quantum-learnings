{
 "cells": [
  {
   "metadata": {},
   "cell_type": "raw",
   "source": "",
   "id": "cc5b0c75dc4e144"
  },
  {
   "metadata": {
    "collapsed": true,
    "ExecuteTime": {
     "end_time": "2024-12-22T01:48:32.486621Z",
     "start_time": "2024-12-22T01:48:32.311887Z"
    }
   },
   "cell_type": "code",
   "source": [
    "# Measuring a statevector\n",
    "from qiskit import QuantumCircuit, transpile\n",
    "from qiskit_aer import AerSimulator\n",
    "\n",
    "# Create a quantum circuit with one qubit\n",
    "qc = QuantumCircuit(1)\n",
    "\n",
    "# Apply a Hadamard gate to the qubit\n",
    "qc.h(0)\n",
    "\n",
    "# Add a save_statevector instruction to the circuit\n",
    "qc.save_statevector()\n",
    "\n",
    "# Visualize the circuit\n",
    "print(\"Quantum Circuit:\")\n",
    "print(qc)\n",
    "\n",
    "# Initialize the AerSimulator\n",
    "simulator = AerSimulator()\n",
    "\n",
    "# Transpile the circuit for the simulator backend\n",
    "transpiled_circ = transpile(qc, simulator)\n",
    "\n",
    "# Run the simulation and retrieve the statevector\n",
    "result = simulator.run(transpiled_circ).result()\n",
    "statevector = result.get_statevector()  # No need to pass the circuit now\n",
    "\n",
    "# Print the statevector\n",
    "print(\"\\nStatevector:\")\n",
    "print(statevector)"
   ],
   "id": "initial_id",
   "outputs": [
    {
     "name": "stdout",
     "output_type": "stream",
     "text": [
      "Quantum Circuit:\n",
      "   ┌───┐ statevector \n",
      "q: ┤ H ├──────░──────\n",
      "   └───┘      ░      \n",
      "\n",
      "Statevector:\n",
      "Statevector([0.70710678+0.j, 0.70710678+0.j],\n",
      "            dims=(2,))\n"
     ]
    }
   ],
   "execution_count": 16
  },
  {
   "metadata": {
    "ExecuteTime": {
     "end_time": "2024-12-22T01:52:52.084867Z",
     "start_time": "2024-12-22T01:52:51.861737Z"
    }
   },
   "cell_type": "code",
   "source": [
    "# Grover's algorithm\n",
    "from qiskit import QuantumCircuit, transpile, assemble\n",
    "from qiskit_aer import AerSimulator\n",
    "\n",
    "from qiskit.visualization import plot_histogram\n",
    "import matplotlib.pyplot as plt\n",
    "\n",
    "# Create a 2-qubit quantum circuit\n",
    "qc = QuantumCircuit(2)\n",
    "\n",
    "# Step 1: Apply Hadamard gates to initialize superposition\n",
    "qc.h([0, 1])\n",
    "\n",
    "# Step 2: Oracle for the marked state |11>\n",
    "qc.cz(0, 1)  # Controlled-Z gate marks |11>\n",
    "\n",
    "# Step 3: Grover Diffusion Operator\n",
    "qc.h([0, 1])        # Apply Hadamard to all qubits\n",
    "qc.x([0, 1])        # Apply X gates to all qubits\n",
    "qc.h(1)             # Controlled-Z around |11>\n",
    "qc.cx(0, 1)\n",
    "qc.h(1)\n",
    "qc.x([0, 1])        # Apply X gates to all qubits\n",
    "qc.h([0, 1])        # Apply Hadamard to all qubits\n",
    "\n",
    "# Step 4: Measure the result\n",
    "qc.measure_all()\n",
    "\n",
    "# Visualize the circuit\n",
    "print(\"Grover's Circuit:\")\n",
    "print(qc)\n",
    "\n",
    "# Simulate the circuit\n",
    "simulator = AerSimulator()\n",
    "transpiled_qc = transpile(qc, simulator)\n",
    "result = simulator.run(transpiled_qc).result()\n",
    "\n",
    "# Retrieve the measurement counts\n",
    "counts = result.get_counts()\n",
    "\n",
    "# Plot the result\n",
    "print(\"\\nMeasurement Counts:\")\n",
    "print(counts)\n",
    "plot_histogram(counts)\n",
    "plt.show()"
   ],
   "id": "3c06b60fc33cf459",
   "outputs": [
    {
     "name": "stdout",
     "output_type": "stream",
     "text": [
      "Grover's Circuit:\n",
      "        ┌───┐   ┌───┐┌───┐          ┌───┐┌───┐      ░ ┌─┐   \n",
      "   q_0: ┤ H ├─■─┤ H ├┤ X ├───────■──┤ X ├┤ H ├──────░─┤M├───\n",
      "        ├───┤ │ ├───┤├───┤┌───┐┌─┴─┐├───┤├───┤┌───┐ ░ └╥┘┌─┐\n",
      "   q_1: ┤ H ├─■─┤ H ├┤ X ├┤ H ├┤ X ├┤ H ├┤ X ├┤ H ├─░──╫─┤M├\n",
      "        └───┘   └───┘└───┘└───┘└───┘└───┘└───┘└───┘ ░  ║ └╥┘\n",
      "meas: 2/═══════════════════════════════════════════════╩══╩═\n",
      "                                                       0  1 \n",
      "\n",
      "Measurement Counts:\n",
      "{'11': 1024}\n"
     ]
    }
   ],
   "execution_count": 18
  },
  {
   "metadata": {},
   "cell_type": "code",
   "outputs": [],
   "execution_count": null,
   "source": [
    "# Shor's Algorithm\n",
    "from qiskit_aer import AerSimulator\n",
    "\n",
    "# Choose a number to factorize\n",
    "N = 15\n",
    "\n",
    "# Initialize the quantum simulator\n",
    "simulator = AerSimulator()\n",
    "quantum_instance = QuantumInstance(backend=simulator)\n",
    "\n",
    "# Run Shor's algorithm\n",
    "shor = Shor(quantum_instance=quantum_instance)\n",
    "result = shor.factor(N)\n",
    "\n",
    "# Output the factors\n",
    "print(f\"Factors of {N}: {result.factors}\")"
   ],
   "id": "94d949dd5672246b"
  }
 ],
 "metadata": {
  "kernelspec": {
   "display_name": "Python 3",
   "language": "python",
   "name": "python3"
  },
  "language_info": {
   "codemirror_mode": {
    "name": "ipython",
    "version": 2
   },
   "file_extension": ".py",
   "mimetype": "text/x-python",
   "name": "python",
   "nbconvert_exporter": "python",
   "pygments_lexer": "ipython2",
   "version": "2.7.6"
  }
 },
 "nbformat": 4,
 "nbformat_minor": 5
}
